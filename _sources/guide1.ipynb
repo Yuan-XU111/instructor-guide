{
 "cells": [
  {
   "cell_type": "markdown",
   "id": "automatic-dutch",
   "metadata": {
    "ExecuteTime": {
     "end_time": "2021-05-06T11:56:00.548904Z",
     "start_time": "2021-05-06T11:56:00.539692Z"
    }
   },
   "source": [
    "# Five basic steps to set up a question\n",
    "\n",
    "## Select a certain language for the question\n",
    "\n",
    "As is shown in the following screenshots, the E-quiz platform provides various languages to choose.\n",
    "\n",
    "![](https://github.com/Yuan-XU111/instructor-guide/blob/master/image/guide1.png?raw=true)\n",
    "\n",
    "![](https://github.com/Yuan-XU111/instructor-guide/blob/master/image/guide1.2.png?raw=true)\n",
    "\n",
    "## Choose the category you want to save the question, and fill in the name, description and marks.\n",
    "\n",
    "![](https://github.com/Yuan-XU111/instructor-guide/blob/master/image/guide2.png?raw=true)\n",
    "\n",
    "## Fill in the answer code\n",
    "![](https://github.com/Yuan-XU111/instructor-guide/blob/master/image/guide3.png?raw=true)\n",
    "\n",
    "## Set up several test cases for the problem.\n",
    "\n",
    "The platform gives several properties to adopt for each test case.\n",
    "\n",
    "\"use as example\" means that students can see this case in the description.\n",
    "\n",
    "![](https://github.com/Yuan-XU111/instructor-guide/blob/master/image/guide4.png?raw=true)\n",
    "## Save the work you have done.\n",
    "![](https://github.com/Yuan-XU111/instructor-guide/blob/master/image/guide5.png?raw=true)"
   ]
  }
 ],
 "metadata": {
  "kernelspec": {
   "display_name": "Python 3",
   "language": "python",
   "name": "python3"
  },
  "language_info": {
   "codemirror_mode": {
    "name": "ipython",
    "version": 3
   },
   "file_extension": ".py",
   "mimetype": "text/x-python",
   "name": "python",
   "nbconvert_exporter": "python",
   "pygments_lexer": "ipython3",
   "version": "3.7.9"
  },
  "toc": {
   "base_numbering": 1,
   "nav_menu": {
    "height": "74px",
    "width": "354px"
   },
   "number_sections": true,
   "sideBar": true,
   "skip_h1_title": false,
   "title_cell": "Table of Contents",
   "title_sidebar": "Contents",
   "toc_cell": false,
   "toc_position": {},
   "toc_section_display": true,
   "toc_window_display": false
  }
 },
 "nbformat": 4,
 "nbformat_minor": 5
}
