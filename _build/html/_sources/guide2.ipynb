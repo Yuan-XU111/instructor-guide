{
 "cells": [
  {
   "cell_type": "markdown",
   "id": "decent-affiliate",
   "metadata": {
    "ExecuteTime": {
     "end_time": "2021-05-22T13:02:25.642261Z",
     "start_time": "2021-05-22T13:02:25.629174Z"
    }
   },
   "source": [
    "# Set up a custom judge\n",
    "\n",
    "## Initiative\n",
    "\n",
    "Sometimes, the students may be asked to solve some special questions with a limited range of expressions. For example, they may be forbidden from using the \"for loop\" or \"while loop\" or something else. In this case, some extra steps are required to be done in the design process.\n",
    "\n",
    "Take the following picture as a simple example. It is a problem that only expects students to solve it with the \"for loop\" method instead of the \"while loop\" method.\n",
    "![](https://github.com/Yuan-XU111/instructor-guide/blob/master/image/guide2_p1.png?raw=true)\n",
    "\n",
    "## Steps\n",
    "\n",
    "### Select the checkbox called \" Customise \", which is in the \"CodeRunner question type\",  upon the normal problem-designing basis.\n",
    "\n",
    "![](https://github.com/Yuan-XU111/instructor-guide/blob/master/image/guide2_p2.png?raw=true)\n",
    "\n",
    "Once you select the \"customise\" mode, as is shown in the picture above, a new frame called \"template\" appears, which is used to write a code to check if the student's code fulfills the requirements, and is in a mixture form of python 3 and twig. (Twig is a template language for PHP that inserts the so-called macro programming language, examples for students answer, and test cases, etc.)\n",
    "![](https://github.com/Yuan-XU111/instructor-guide/blob/master/image/guide2_p3.png?raw=true)\n",
    "It consists of the student answer (in the first line). It assignment to a local variable containing the student answer which you are to use.It assignment to a separator variable and then for each test case the test code print of a separator. At the same time, you can also click the \"Template debugging\" button to help you to set up question clearly. \n",
    "\n",
    "## Write code in \"Template\".\n",
    "![](https://github.com/Yuan-XU111/instructor-guide/blob/master/image/guide2_p4.png?raw=true)\n",
    "\n",
    "Here is an example that only wants students to use the \"for loop\" method, and the while method is prohibited. A function called visit_While is defined to find while and break the student's function.\n",
    "\n",
    "You may modify the code due to the task you want to acheive.\n",
    "\n",
    "## Outcome\n",
    "If a student write a right answer, he will get:\n",
    "![](https://github.com/Yuan-XU111/instructor-guide/blob/master/image/guide2_p5.png?raw=true)\n",
    "Otherwise, he will get:\n",
    "![](https://github.com/Yuan-XU111/instructor-guide/blob/master/image/guide2_p6.png?raw=true)"
   ]
  }
 ],
 "metadata": {
  "kernelspec": {
   "display_name": "Python 3",
   "language": "python",
   "name": "python3"
  },
  "language_info": {
   "codemirror_mode": {
    "name": "ipython",
    "version": 3
   },
   "file_extension": ".py",
   "mimetype": "text/x-python",
   "name": "python",
   "nbconvert_exporter": "python",
   "pygments_lexer": "ipython3",
   "version": "3.7.9"
  },
  "toc": {
   "base_numbering": 1,
   "nav_menu": {},
   "number_sections": true,
   "sideBar": true,
   "skip_h1_title": false,
   "title_cell": "Table of Contents",
   "title_sidebar": "Contents",
   "toc_cell": false,
   "toc_position": {},
   "toc_section_display": true,
   "toc_window_display": false
  }
 },
 "nbformat": 4,
 "nbformat_minor": 5
}
