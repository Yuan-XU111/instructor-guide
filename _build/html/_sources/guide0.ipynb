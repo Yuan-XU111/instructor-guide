{
 "cells": [
  {
   "cell_type": "markdown",
   "id": "infrared-foster",
   "metadata": {},
   "source": [
    "# Where to create questions\n",
    "\n",
    "## After logging in the e-quiz platform, select the corresponding course.\n",
    "![](https://github.com/Yuan-XU111/instructor-guide/blob/master/image/guide0-1.png?raw=true)\n",
    "\n",
    "## A gear can be found in the upper right corner. Click it and choose \"more\".\n",
    "![](https://github.com/Yuan-XU111/instructor-guide/blob/master/image/guide0-2.png?raw=true)\n",
    "\n",
    "## \"Questions\"  can be found at the bottom of the page.\n",
    "![](https://github.com/Yuan-XU111/instructor-guide/blob/master/image/guide0-3.png?raw=true)\n",
    "\n",
    "## Then click \"Create a new question ...\"\n",
    "![](https://github.com/Yuan-XU111/instructor-guide/blob/master/image/guide0-4.png?raw=true)\n",
    "\n",
    "## Select \"code runner\"\n",
    "![](https://github.com/Yuan-XU111/instructor-guide/blob/master/image/guide0-5.png?raw=true)\n",
    "\n",
    "Now you have known where to create question, and you will learn how to do it in next chapter."
   ]
  }
 ],
 "metadata": {
  "kernelspec": {
   "display_name": "Python 3",
   "language": "python",
   "name": "python3"
  },
  "language_info": {
   "codemirror_mode": {
    "name": "ipython",
    "version": 3
   },
   "file_extension": ".py",
   "mimetype": "text/x-python",
   "name": "python",
   "nbconvert_exporter": "python",
   "pygments_lexer": "ipython3",
   "version": "3.7.9"
  },
  "toc": {
   "base_numbering": 1,
   "nav_menu": {},
   "number_sections": true,
   "sideBar": true,
   "skip_h1_title": false,
   "title_cell": "Table of Contents",
   "title_sidebar": "Contents",
   "toc_cell": false,
   "toc_position": {},
   "toc_section_display": true,
   "toc_window_display": false
  }
 },
 "nbformat": 4,
 "nbformat_minor": 5
}
