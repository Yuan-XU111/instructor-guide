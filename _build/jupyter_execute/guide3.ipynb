{
 "cells": [
  {
   "cell_type": "markdown",
   "id": "contained-consumption",
   "metadata": {},
   "source": [
    "# How to set a new type of a question\n",
    "\n",
    "It is needed to write some codes to test if the student's code meets the requirements every time we want to set up a customized question.\n",
    "\n",
    "The requirements could be same sometimes. Therefore, we can define a particular judging mode first and adapt it to a series of questions to reduce the work.\n",
    "\n",
    "## Click \"create a new question\" at the question page\n",
    "\n",
    "![](https://github.com/Yuan-XU111/instructor-guide/blob/master/image/guide3-1.png?raw=true)\n",
    "\n",
    "## Select \"code runner\" as a normal question\n",
    "\n",
    "![](https://github.com/Yuan-XU111/instructor-guide/blob/master/image/guide3-2.png?raw=true)\n",
    "\n",
    "## Select the language (we use python 3 here) and choose \"Customise\". \n",
    "\n",
    "![](https://github.com/Yuan-XU111/instructor-guide/blob/master/image/guide3-3.png?raw=true)\n",
    "\n",
    "## Write the code in \"Template\" as grading criterion\n",
    "\n",
    "![](https://github.com/Yuan-XU111/instructor-guide/blob/master/image/guide3-4.png?raw=true)\n",
    "\n",
    "## Open \"Advanced customisation\" and select \"Yes(user defined)\", name it as the question type\n",
    "\n",
    "![](https://github.com/Yuan-XU111/instructor-guide/blob/master/image/guide3-5.png?raw=true)\n",
    "\n",
    "## After saving, the defined type can be found in the select box when you create a question next time\n",
    "\n",
    "![](https://github.com/Yuan-XU111/instructor-guide/blob/master/image/guide3-6.png?raw=true)"
   ]
  }
 ],
 "metadata": {
  "kernelspec": {
   "display_name": "Python 3",
   "language": "python",
   "name": "python3"
  },
  "language_info": {
   "codemirror_mode": {
    "name": "ipython",
    "version": 3
   },
   "file_extension": ".py",
   "mimetype": "text/x-python",
   "name": "python",
   "nbconvert_exporter": "python",
   "pygments_lexer": "ipython3",
   "version": "3.9.6"
  },
  "toc": {
   "base_numbering": 1,
   "nav_menu": {},
   "number_sections": true,
   "sideBar": true,
   "skip_h1_title": false,
   "title_cell": "Table of Contents",
   "title_sidebar": "Contents",
   "toc_cell": false,
   "toc_position": {},
   "toc_section_display": true,
   "toc_window_display": false
  }
 },
 "nbformat": 4,
 "nbformat_minor": 5
}